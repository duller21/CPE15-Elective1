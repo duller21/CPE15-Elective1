{
  "nbformat": 4,
  "nbformat_minor": 0,
  "metadata": {
    "colab": {
      "provenance": [],
      "authorship_tag": "ABX9TyMS8ILRINc5ewbwYhCXsLx2",
      "include_colab_link": true
    },
    "kernelspec": {
      "name": "python3",
      "display_name": "Python 3"
    },
    "language_info": {
      "name": "python"
    }
  },
  "cells": [
    {
      "cell_type": "markdown",
      "metadata": {
        "id": "view-in-github",
        "colab_type": "text"
      },
      "source": [
        "<a href=\"https://colab.research.google.com/github/duller21/CPE15-Elective1/blob/main/Exercise1.ipynb\" target=\"_parent\"><img src=\"https://colab.research.google.com/assets/colab-badge.svg\" alt=\"Open In Colab\"/></a>"
      ]
    },
    {
      "cell_type": "markdown",
      "source": [
        "##Exercises - 1\n",
        "Answer the question or complete the task outlined below, use the specific method described if applicable\n",
        "\n",
        "Note: Use [Alt + Enter] to execute the code.\n",
        "\n",
        "**1. What is**\n",
        "\n",
        "  a. 7 to the power of 4?\n",
        "\n",
        "  b. 13th root of 358?"
      ],
      "metadata": {
        "id": "NOdSNMf8pr0R"
      }
    },
    {
      "cell_type": "code",
      "source": [
        "7**4"
      ],
      "metadata": {
        "colab": {
          "base_uri": "https://localhost:8080/"
        },
        "id": "ySIpOwT6p0a0",
        "outputId": "10d0a165-c195-45da-b7f2-9c5fe5716e6a"
      },
      "execution_count": 1,
      "outputs": [
        {
          "output_type": "execute_result",
          "data": {
            "text/plain": [
              "2401"
            ]
          },
          "metadata": {},
          "execution_count": 1
        }
      ]
    },
    {
      "cell_type": "code",
      "source": [
        "358**(1/13)"
      ],
      "metadata": {
        "colab": {
          "base_uri": "https://localhost:8080/"
        },
        "id": "bwEkFMDbqF3c",
        "outputId": "ce9dced4-6040-4bf0-d315-1de56ce084de"
      },
      "execution_count": 2,
      "outputs": [
        {
          "output_type": "execute_result",
          "data": {
            "text/plain": [
              "1.571999995684196"
            ]
          },
          "metadata": {},
          "execution_count": 2
        }
      ]
    },
    {
      "cell_type": "markdown",
      "source": [
        "**2. Split the string below into a list.**\n",
        "\n",
        "s = \"Data Science is a cool subject!\""
      ],
      "metadata": {
        "id": "LNRdSarcrTzA"
      }
    },
    {
      "cell_type": "code",
      "source": [
        "s=\"Data Science is a cool subject\"\n",
        "x= s.split()\n",
        "print(s)"
      ],
      "metadata": {
        "colab": {
          "base_uri": "https://localhost:8080/"
        },
        "id": "X8yVX1RlrZ0r",
        "outputId": "29b2d762-7738-45da-f088-caf196d83e78"
      },
      "execution_count": 5,
      "outputs": [
        {
          "output_type": "stream",
          "name": "stdout",
          "text": [
            "Data Science is a cool subject\n"
          ]
        }
      ]
    },
    {
      "cell_type": "markdown",
      "source": [
        "**3. Given the variables**\n",
        "\n",
        "planet = \"Jupiter\"\n",
        "\n",
        "diameter = 139820\n",
        "\n",
        "\n",
        "Use .format to print the following string:\n",
        "\n",
        "The diameter of Jupiter is 139820 kilometers."
      ],
      "metadata": {
        "id": "KWVBApGVr5Xl"
      }
    },
    {
      "cell_type": "code",
      "source": [
        "planet= \"Jupiter\"\n",
        "diameter= 139820\n",
        "\n",
        "print('The diameter of {} is {} kilometers'.format(planet,diameter))"
      ],
      "metadata": {
        "colab": {
          "base_uri": "https://localhost:8080/"
        },
        "id": "-rXcHScWsCaR",
        "outputId": "f891cb81-b057-4160-ceb9-6f0b322c84fb"
      },
      "execution_count": 6,
      "outputs": [
        {
          "output_type": "stream",
          "name": "stdout",
          "text": [
            "The diameter of Jupiter is 139820 kilometers\n"
          ]
        }
      ]
    },
    {
      "cell_type": "markdown",
      "source": [
        "**4. Given the different list below, use indexing to grab the word 'target'**"
      ],
      "metadata": {
        "id": "xPzyVNT6srGQ"
      }
    },
    {
      "cell_type": "code",
      "source": [
        "list_1 = [1,2,3,[4,5,6,['a','b','c','target'],7,8,9],10,11,12]\n",
        "list_1[3][3][3]"
      ],
      "metadata": {
        "colab": {
          "base_uri": "https://localhost:8080/",
          "height": 36
        },
        "id": "rNexj6lpstP1",
        "outputId": "fb4da07c-aa2e-43fd-9407-b6f31e7a919b"
      },
      "execution_count": 8,
      "outputs": [
        {
          "output_type": "execute_result",
          "data": {
            "text/plain": [
              "'target'"
            ],
            "application/vnd.google.colaboratory.intrinsic+json": {
              "type": "string"
            }
          },
          "metadata": {},
          "execution_count": 8
        }
      ]
    },
    {
      "cell_type": "code",
      "source": [
        "list_2 = [1,2,3,[4,5,['a','b','c',['d','e','f','g',['h','target'],6,7]],8,9]]\n",
        "list_2[3][2][3][4][1]"
      ],
      "metadata": {
        "colab": {
          "base_uri": "https://localhost:8080/",
          "height": 36
        },
        "id": "2j1DQlPZs2B4",
        "outputId": "367e8687-7df9-4af2-9b2c-59de4bab88a1"
      },
      "execution_count": 9,
      "outputs": [
        {
          "output_type": "execute_result",
          "data": {
            "text/plain": [
              "'target'"
            ],
            "application/vnd.google.colaboratory.intrinsic+json": {
              "type": "string"
            }
          },
          "metadata": {},
          "execution_count": 9
        }
      ]
    },
    {
      "cell_type": "code",
      "source": [
        "list_3 = [1,2,3,[4,[5,6,7,[8,9,10,[11,12,13,14,[15,'target']]],16,17]],18]\n",
        "list_3[3][1][3][3][4][1]"
      ],
      "metadata": {
        "colab": {
          "base_uri": "https://localhost:8080/",
          "height": 36
        },
        "id": "LKBKf-HntBnE",
        "outputId": "c83b83ee-0431-4a48-dcd5-9b70c08dcf1f"
      },
      "execution_count": 10,
      "outputs": [
        {
          "output_type": "execute_result",
          "data": {
            "text/plain": [
              "'target'"
            ],
            "application/vnd.google.colaboratory.intrinsic+json": {
              "type": "string"
            }
          },
          "metadata": {},
          "execution_count": 10
        }
      ]
    },
    {
      "cell_type": "markdown",
      "source": [
        "**5. Given the different dictionary below, use indexing to grab the word 'tricky'**"
      ],
      "metadata": {
        "id": "sBYRvmDxtWmz"
      }
    },
    {
      "cell_type": "code",
      "source": [
        "d1 = {'k1':[1,2,3],'k2':{'k3':'tricky'}}\n",
        "d1['k2']['k3']"
      ],
      "metadata": {
        "colab": {
          "base_uri": "https://localhost:8080/",
          "height": 36
        },
        "id": "h0J-acHStZdD",
        "outputId": "ab60ffa4-d6c2-498c-f123-8973c5fed5f2"
      },
      "execution_count": 12,
      "outputs": [
        {
          "output_type": "execute_result",
          "data": {
            "text/plain": [
              "'tricky'"
            ],
            "application/vnd.google.colaboratory.intrinsic+json": {
              "type": "string"
            }
          },
          "metadata": {},
          "execution_count": 12
        }
      ]
    },
    {
      "cell_type": "code",
      "source": [
        "d2 = {'k1':[1,2,3,],'k2':{'k3':[4,6,6,'tricky']}}\n",
        "d2['k2']['k3'][3]"
      ],
      "metadata": {
        "colab": {
          "base_uri": "https://localhost:8080/",
          "height": 36
        },
        "id": "7lLLxbJFtjKE",
        "outputId": "c2d857cf-1aaf-4481-913a-3ee04dd335c4"
      },
      "execution_count": 13,
      "outputs": [
        {
          "output_type": "execute_result",
          "data": {
            "text/plain": [
              "'tricky'"
            ],
            "application/vnd.google.colaboratory.intrinsic+json": {
              "type": "string"
            }
          },
          "metadata": {},
          "execution_count": 13
        }
      ]
    },
    {
      "cell_type": "code",
      "source": [
        "d3 = {'k1':[1,2,3,{'Hello':['oh','man','this',{'is':[1,2,3,'tricky']}]}]}\n",
        "d3['k1'][3]['Hello'][3]['is'][3]"
      ],
      "metadata": {
        "colab": {
          "base_uri": "https://localhost:8080/",
          "height": 36
        },
        "id": "eC4VO__5tufM",
        "outputId": "0dfe767c-571d-4509-ee54-c1ecfc03694d"
      },
      "execution_count": 15,
      "outputs": [
        {
          "output_type": "execute_result",
          "data": {
            "text/plain": [
              "'tricky'"
            ],
            "application/vnd.google.colaboratory.intrinsic+json": {
              "type": "string"
            }
          },
          "metadata": {},
          "execution_count": 15
        }
      ]
    },
    {
      "cell_type": "markdown",
      "source": [
        "**6. Given the string below grab the following words.**\n",
        "\n",
        "st = \"Programming for Data Science is awesome\"\n",
        "\n",
        "a. \"Programming\"\n",
        "\n",
        "b. \"Data Science\"\n",
        "    \n",
        "c. \"awesome\""
      ],
      "metadata": {
        "id": "b_Kuo7pruJwP"
      }
    },
    {
      "cell_type": "code",
      "source": [
        "st=\"Programming for Data Science is awesome\"\n",
        "\n",
        "x = st.split()\n",
        "print(str(x))"
      ],
      "metadata": {
        "colab": {
          "base_uri": "https://localhost:8080/"
        },
        "id": "HavJP0KXuTmS",
        "outputId": "0d223ec0-6f03-40c9-e81c-fe48558dd923"
      },
      "execution_count": 28,
      "outputs": [
        {
          "output_type": "stream",
          "name": "stdout",
          "text": [
            "['Programming', 'for', 'Data', 'Science', 'is', 'awesome']\n"
          ]
        }
      ]
    },
    {
      "cell_type": "code",
      "source": [
        "x[0]"
      ],
      "metadata": {
        "colab": {
          "base_uri": "https://localhost:8080/",
          "height": 36
        },
        "id": "iHrPg87svue0",
        "outputId": "8d8221e2-3041-4cc6-ef75-27fdb8195ab3"
      },
      "execution_count": 29,
      "outputs": [
        {
          "output_type": "execute_result",
          "data": {
            "text/plain": [
              "'Programming'"
            ],
            "application/vnd.google.colaboratory.intrinsic+json": {
              "type": "string"
            }
          },
          "metadata": {},
          "execution_count": 29
        }
      ]
    },
    {
      "cell_type": "code",
      "source": [
        "x[2:4]"
      ],
      "metadata": {
        "colab": {
          "base_uri": "https://localhost:8080/"
        },
        "id": "GVI9wDNxwbYN",
        "outputId": "3416cf62-3db4-4b3b-ada6-d010299bb348"
      },
      "execution_count": 30,
      "outputs": [
        {
          "output_type": "execute_result",
          "data": {
            "text/plain": [
              "['Data', 'Science']"
            ]
          },
          "metadata": {},
          "execution_count": 30
        }
      ]
    },
    {
      "cell_type": "code",
      "source": [
        "x[5]"
      ],
      "metadata": {
        "colab": {
          "base_uri": "https://localhost:8080/",
          "height": 36
        },
        "id": "MeXBtvFdwfSq",
        "outputId": "a42493f5-8569-4ff1-c563-448f88cac89c"
      },
      "execution_count": 31,
      "outputs": [
        {
          "output_type": "execute_result",
          "data": {
            "text/plain": [
              "'awesome'"
            ],
            "application/vnd.google.colaboratory.intrinsic+json": {
              "type": "string"
            }
          },
          "metadata": {},
          "execution_count": 31
        }
      ]
    },
    {
      "cell_type": "markdown",
      "source": [
        "**7. Create a function that grabs the email website domain from a string.**\n",
        "\n",
        "  information@slsu.edu.ph\n",
        "\n",
        "e.g. So for example, passing 'information@slsu.edu.ph' would return 'slsu.edu.ph"
      ],
      "metadata": {
        "id": "-DU3wqjewlk3"
      }
    },
    {
      "cell_type": "code",
      "source": [
        "str = 'information@slsu.edu.ph'\n",
        "str.split('@')"
      ],
      "metadata": {
        "colab": {
          "base_uri": "https://localhost:8080/"
        },
        "id": "ceFtUKjiwor0",
        "outputId": "7e139809-9958-4aa4-fadd-3433c3b8e1c1"
      },
      "execution_count": 32,
      "outputs": [
        {
          "output_type": "execute_result",
          "data": {
            "text/plain": [
              "['information', 'slsu.edu.ph']"
            ]
          },
          "metadata": {},
          "execution_count": 32
        }
      ]
    },
    {
      "cell_type": "code",
      "source": [
        "def extractDomain(x):\n",
        "  return x.split('@')[1]\n",
        "extractDomain('dullerjohndel@gmail.com')\n"
      ],
      "metadata": {
        "colab": {
          "base_uri": "https://localhost:8080/",
          "height": 36
        },
        "id": "_ss5EH28xJzo",
        "outputId": "1bf0103e-98d9-4ae3-9fa8-70a9c806ae98"
      },
      "execution_count": 34,
      "outputs": [
        {
          "output_type": "execute_result",
          "data": {
            "text/plain": [
              "'gmail.com'"
            ],
            "application/vnd.google.colaboratory.intrinsic+json": {
              "type": "string"
            }
          },
          "metadata": {},
          "execution_count": 34
        }
      ]
    },
    {
      "cell_type": "markdown",
      "source": [
        "**8. Create a function that returns True of the word 'dog' is contained in the input string. Do not worry about edge cases like punctuation being attached to the word dog, but do account for capitalization.**"
      ],
      "metadata": {
        "id": "OYIrbkjty758"
      }
    },
    {
      "cell_type": "code",
      "source": [
        "str= 'How much is that dog in the window'\n",
        "def getDog(str):\n",
        "  return 'dog' in str.lower().split()\n",
        "getDog(str)"
      ],
      "metadata": {
        "colab": {
          "base_uri": "https://localhost:8080/"
        },
        "id": "251k9iPzy-ix",
        "outputId": "47ddbe90-2b6a-4ab9-a061-fc368c9d02d7"
      },
      "execution_count": 39,
      "outputs": [
        {
          "output_type": "execute_result",
          "data": {
            "text/plain": [
              "True"
            ]
          },
          "metadata": {},
          "execution_count": 39
        }
      ]
    },
    {
      "cell_type": "markdown",
      "source": [
        "**9. Create a function that counts the number of times a \"cat\" occurs in a string. Ignore edge cases.**"
      ],
      "metadata": {
        "id": "gmxh5RyEzydT"
      }
    },
    {
      "cell_type": "code",
      "source": [
        "str= 'bat, cat, cat, cat, dog, bird'\n"
      ],
      "metadata": {
        "id": "ogAdrZlhz0Sy"
      },
      "execution_count": 52,
      "outputs": []
    },
    {
      "cell_type": "code",
      "source": [
        "def getCat(str):\n",
        "\n",
        "  count = 0\n",
        "\n",
        "  for word in str.lower().split():\n",
        "\n",
        "    if (word =='cat'):\n",
        "\n",
        "      count = count + 1\n",
        "\n",
        "  return count"
      ],
      "metadata": {
        "id": "MoGxnaRd0SxX"
      },
      "execution_count": 53,
      "outputs": []
    },
    {
      "cell_type": "code",
      "source": [],
      "metadata": {
        "id": "12zaEXLE1M3A"
      },
      "execution_count": null,
      "outputs": []
    }
  ]
}