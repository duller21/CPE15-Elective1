{
  "nbformat": 4,
  "nbformat_minor": 0,
  "metadata": {
    "colab": {
      "provenance": [],
      "authorship_tag": "ABX9TyPv/MuZmHYFTWGZmsBabqtK",
      "include_colab_link": true
    },
    "kernelspec": {
      "name": "python3",
      "display_name": "Python 3"
    },
    "language_info": {
      "name": "python"
    }
  },
  "cells": [
    {
      "cell_type": "markdown",
      "metadata": {
        "id": "view-in-github",
        "colab_type": "text"
      },
      "source": [
        "<a href=\"https://colab.research.google.com/github/duller21/CPE15-Elective1/blob/main/PythonBasics2.ipynb\" target=\"_parent\"><img src=\"https://colab.research.google.com/assets/colab-badge.svg\" alt=\"Open In Colab\"/></a>"
      ]
    },
    {
      "cell_type": "markdown",
      "source": [
        "##List Comprehension\n",
        "  - a quick for loop to list\n",
        "  - (this is a very common operation in Python)"
      ],
      "metadata": {
        "id": "e8Y4sWlTnldj"
      }
    },
    {
      "cell_type": "code",
      "source": [
        "x = [1,2,3,4]\n",
        "\n",
        "out = [] #empty list\n",
        "\n",
        "for item in x:\n",
        "\n",
        "    out.append(item**2)\n",
        "\n",
        "print(out)"
      ],
      "metadata": {
        "colab": {
          "base_uri": "https://localhost:8080/"
        },
        "id": "DSeii4S4nvay",
        "outputId": "04f2686a-cc9e-4770-8f36-313f2e04cc37"
      },
      "execution_count": 1,
      "outputs": [
        {
          "output_type": "stream",
          "name": "stdout",
          "text": [
            "[1, 4, 9, 16]\n"
          ]
        }
      ]
    },
    {
      "cell_type": "code",
      "source": [
        "out"
      ],
      "metadata": {
        "colab": {
          "base_uri": "https://localhost:8080/"
        },
        "id": "26fkuJkFn9Wd",
        "outputId": "1d5c309b-f429-4089-8928-30e97906a84c"
      },
      "execution_count": 2,
      "outputs": [
        {
          "output_type": "execute_result",
          "data": {
            "text/plain": [
              "[1, 4, 9, 16]"
            ]
          },
          "metadata": {},
          "execution_count": 2
        }
      ]
    },
    {
      "cell_type": "code",
      "source": [
        "[item**2 for item in x] # list comprehension is a shorcut, one simple line"
      ],
      "metadata": {
        "colab": {
          "base_uri": "https://localhost:8080/"
        },
        "id": "7WosKZdioOrk",
        "outputId": "279b3449-4ac4-4fd7-9af6-dff679c61792"
      },
      "execution_count": 3,
      "outputs": [
        {
          "output_type": "execute_result",
          "data": {
            "text/plain": [
              "[1, 4, 9, 16]"
            ]
          },
          "metadata": {},
          "execution_count": 3
        }
      ]
    },
    {
      "cell_type": "markdown",
      "source": [
        "##Functions\n",
        "  - A function is a block of organized, reusable code that is used to perform a single, related action"
      ],
      "metadata": {
        "id": "3O1t15EQoY40"
      }
    },
    {
      "cell_type": "code",
      "source": [
        "def my_function(param1 = 'default'):\n",
        "\n",
        "    print(param1)\n",
        "\n",
        "my_function('Hello JD!')"
      ],
      "metadata": {
        "colab": {
          "base_uri": "https://localhost:8080/"
        },
        "id": "5a4wNSP4oeLT",
        "outputId": "40032eec-a900-4c42-f4dd-a46d2f238325"
      },
      "execution_count": 5,
      "outputs": [
        {
          "output_type": "stream",
          "name": "stdout",
          "text": [
            "Hello JD!\n"
          ]
        }
      ]
    },
    {
      "cell_type": "code",
      "source": [
        "my_function"
      ],
      "metadata": {
        "colab": {
          "base_uri": "https://localhost:8080/"
        },
        "id": "aBN-ZHEgopX0",
        "outputId": "e1a5416b-9111-49f9-d5d1-4bff71c3716e"
      },
      "execution_count": 6,
      "outputs": [
        {
          "output_type": "execute_result",
          "data": {
            "text/plain": [
              "<function __main__.my_function(param1='default')>"
            ]
          },
          "metadata": {},
          "execution_count": 6
        }
      ]
    },
    {
      "cell_type": "code",
      "source": [
        "my_function()"
      ],
      "metadata": {
        "colab": {
          "base_uri": "https://localhost:8080/"
        },
        "id": "joDja5Seoy1a",
        "outputId": "e277548c-4baf-4980-adf9-d2eb8b84c8e9"
      },
      "execution_count": 9,
      "outputs": [
        {
          "output_type": "stream",
          "name": "stdout",
          "text": [
            "default\n"
          ]
        }
      ]
    },
    {
      "cell_type": "code",
      "source": [
        "# function that returns value\n",
        "\n",
        "def square(x):\n",
        "\n",
        "    return x ** 2\n",
        "\n",
        "out = square(3)\n",
        "out"
      ],
      "metadata": {
        "colab": {
          "base_uri": "https://localhost:8080/"
        },
        "id": "ytYeQYvNo5Ho",
        "outputId": "bef26d99-f426-4a78-d09d-dc44a10d2322"
      },
      "execution_count": 10,
      "outputs": [
        {
          "output_type": "execute_result",
          "data": {
            "text/plain": [
              "9"
            ]
          },
          "metadata": {},
          "execution_count": 10
        }
      ]
    }
  ]
}